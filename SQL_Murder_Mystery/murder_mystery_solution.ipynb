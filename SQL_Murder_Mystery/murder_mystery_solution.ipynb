{
 "cells": [
  {
   "cell_type": "code",
   "execution_count": 246,
   "metadata": {},
   "outputs": [],
   "source": [
    "import pandas as pd\n",
    "import numpy as np\n",
    "import sqlite3\n",
    "\n",
    "# Transforming the query result into dataframe for easier manipulations.\n",
    "def query_to_df(query):\n",
    "    with sqlite3.connect(\"sql-murder-mystery.db\") as connection:\n",
    "        results_df = pd.read_sql(query, connection)\n",
    "    return results_df\n",
    "\n",
    "# Retrieving the table schema\n",
    "def get_schema(table_name):\n",
    "    with sqlite3.connect(\"sql-murder-mystery.db\") as connection:\n",
    "        cursor = connection.cursor()\n",
    "        cursor.execute(f\"PRAGMA table_info('{table_name}')\")\n",
    "        data = cursor.fetchall()\n",
    "    columns = [desc[0] for desc in cursor.description] # retrieve column names\n",
    "    df = pd.DataFrame(data, columns=columns) # create pandas DataFrame\n",
    "    return df"
   ]
  },
  {
   "attachments": {},
   "cell_type": "markdown",
   "metadata": {},
   "source": [
    "# Checking what tables are in the database.\n",
    "Firstly, I'm checking what tables are in the database file. <br> For that I'm gonna run a query on 'sqlite_master' table to receive information about the structure of a database."
   ]
  },
  {
   "cell_type": "code",
   "execution_count": 247,
   "metadata": {},
   "outputs": [
    {
     "name": "stdout",
     "output_type": "stream",
     "text": [
      "                     name\n",
      "0      crime_scene_report\n",
      "1         drivers_license\n",
      "2  facebook_event_checkin\n",
      "3               interview\n",
      "4      get_fit_now_member\n",
      "5    get_fit_now_check_in\n",
      "6                solution\n",
      "7                  income\n",
      "8                  person\n"
     ]
    }
   ],
   "source": [
    "database_tables = query_to_df(\"SELECT name FROM sqlite_master WHERE type = 'table'\")\n",
    "print(database_tables)"
   ]
  },
  {
   "attachments": {},
   "cell_type": "markdown",
   "metadata": {},
   "source": [
    "# Schemas\n",
    "Knowing what tables I'm working with, I'd check now what kind of data/information is stored inside each table."
   ]
  },
  {
   "attachments": {},
   "cell_type": "markdown",
   "metadata": {},
   "source": [
    "### *Crime Scene Report*"
   ]
  },
  {
   "cell_type": "code",
   "execution_count": 248,
   "metadata": {},
   "outputs": [
    {
     "name": "stdout",
     "output_type": "stream",
     "text": [
      "   cid         name     type  notnull dflt_value  pk\n",
      "0    0         date  INTEGER        0       None   0\n",
      "1    1         type     TEXT        0       None   0\n",
      "2    2  description     TEXT        0       None   0\n",
      "3    3         city     TEXT        0       None   0\n"
     ]
    }
   ],
   "source": [
    "crime_scene_report_schema = get_schema(\"crime_scene_report\")\n",
    "print(crime_scene_report_schema)"
   ]
  },
  {
   "attachments": {},
   "cell_type": "markdown",
   "metadata": {},
   "source": [
    "### *Drivers License*"
   ]
  },
  {
   "cell_type": "code",
   "execution_count": 249,
   "metadata": {},
   "outputs": [
    {
     "name": "stdout",
     "output_type": "stream",
     "text": [
      "   cid          name     type  notnull dflt_value  pk\n",
      "0    0            id  INTEGER        0       None   1\n",
      "1    1           age  INTEGER        0       None   0\n",
      "2    2        height  INTEGER        0       None   0\n",
      "3    3     eye_color     TEXT        0       None   0\n",
      "4    4    hair_color     TEXT        0       None   0\n",
      "5    5        gender     TEXT        0       None   0\n",
      "6    6  plate_number     TEXT        0       None   0\n",
      "7    7      car_make     TEXT        0       None   0\n",
      "8    8     car_model     TEXT        0       None   0\n"
     ]
    }
   ],
   "source": [
    "drivers_license_schema = get_schema(\"drivers_license\")\n",
    "print(drivers_license_schema)"
   ]
  },
  {
   "attachments": {},
   "cell_type": "markdown",
   "metadata": {},
   "source": [
    "### *Facebook Event Checkin*"
   ]
  },
  {
   "cell_type": "code",
   "execution_count": 250,
   "metadata": {},
   "outputs": [
    {
     "name": "stdout",
     "output_type": "stream",
     "text": [
      "   cid        name     type  notnull dflt_value  pk\n",
      "0    0   person_id  INTEGER        0       None   0\n",
      "1    1    event_id  INTEGER        0       None   0\n",
      "2    2  event_name     TEXT        0       None   0\n",
      "3    3        date  INTEGER        0       None   0\n"
     ]
    }
   ],
   "source": [
    "facebook_event_checkin_schema = get_schema(\"facebook_event_checkin\")\n",
    "print(facebook_event_checkin_schema)"
   ]
  },
  {
   "attachments": {},
   "cell_type": "markdown",
   "metadata": {},
   "source": [
    "### *Interview*"
   ]
  },
  {
   "cell_type": "code",
   "execution_count": 251,
   "metadata": {},
   "outputs": [
    {
     "name": "stdout",
     "output_type": "stream",
     "text": [
      "   cid        name     type  notnull dflt_value  pk\n",
      "0    0   person_id  INTEGER        0       None   0\n",
      "1    1  transcript     TEXT        0       None   0\n"
     ]
    }
   ],
   "source": [
    "interview_schema = get_schema(\"interview\")\n",
    "print(interview_schema)"
   ]
  },
  {
   "attachments": {},
   "cell_type": "markdown",
   "metadata": {},
   "source": [
    "### *Get Fit Now Member*"
   ]
  },
  {
   "cell_type": "code",
   "execution_count": 252,
   "metadata": {},
   "outputs": [
    {
     "name": "stdout",
     "output_type": "stream",
     "text": [
      "   cid                   name     type  notnull dflt_value  pk\n",
      "0    0                     id     TEXT        0       None   1\n",
      "1    1              person_id  INTEGER        0       None   0\n",
      "2    2                   name     TEXT        0       None   0\n",
      "3    3  membership_start_date  INTEGER        0       None   0\n",
      "4    4      membership_status     TEXT        0       None   0\n"
     ]
    }
   ],
   "source": [
    "get_fit_now_member_schema = get_schema(\"get_fit_now_member\")\n",
    "print(get_fit_now_member_schema)"
   ]
  },
  {
   "attachments": {},
   "cell_type": "markdown",
   "metadata": {},
   "source": [
    "### *Get Fit Now Check In*"
   ]
  },
  {
   "cell_type": "code",
   "execution_count": 253,
   "metadata": {},
   "outputs": [
    {
     "name": "stdout",
     "output_type": "stream",
     "text": [
      "   cid            name     type  notnull dflt_value  pk\n",
      "0    0   membership_id     TEXT        0       None   0\n",
      "1    1   check_in_date  INTEGER        0       None   0\n",
      "2    2   check_in_time  INTEGER        0       None   0\n",
      "3    3  check_out_time  INTEGER        0       None   0\n"
     ]
    }
   ],
   "source": [
    "get_fit_now_check_in_schema = get_schema(\"get_fit_now_check_in\")\n",
    "print(get_fit_now_check_in_schema)"
   ]
  },
  {
   "attachments": {},
   "cell_type": "markdown",
   "metadata": {},
   "source": [
    "### *Solution*"
   ]
  },
  {
   "cell_type": "code",
   "execution_count": 254,
   "metadata": {},
   "outputs": [
    {
     "name": "stdout",
     "output_type": "stream",
     "text": [
      "Empty DataFrame\n",
      "Columns: [cid, name, type, notnull, dflt_value, pk]\n",
      "Index: []\n"
     ]
    }
   ],
   "source": [
    "solution_schema = get_schema(\"solution_schema\")\n",
    "print(solution_schema)"
   ]
  },
  {
   "attachments": {},
   "cell_type": "markdown",
   "metadata": {},
   "source": [
    "### *Income*"
   ]
  },
  {
   "cell_type": "code",
   "execution_count": 255,
   "metadata": {},
   "outputs": [
    {
     "name": "stdout",
     "output_type": "stream",
     "text": [
      "   cid           name     type  notnull dflt_value  pk\n",
      "0    0            ssn     CHAR        0       None   1\n",
      "1    1  annual_income  INTEGER        0       None   0\n"
     ]
    }
   ],
   "source": [
    "income_schema = get_schema(\"income\")\n",
    "print(income_schema)"
   ]
  },
  {
   "attachments": {},
   "cell_type": "markdown",
   "metadata": {},
   "source": [
    "### *Person*"
   ]
  },
  {
   "cell_type": "code",
   "execution_count": 256,
   "metadata": {},
   "outputs": [
    {
     "name": "stdout",
     "output_type": "stream",
     "text": [
      "   cid                 name     type  notnull dflt_value  pk\n",
      "0    0                   id  INTEGER        0       None   1\n",
      "1    1                 name     TEXT        0       None   0\n",
      "2    2           license_id  INTEGER        0       None   0\n",
      "3    3       address_number  INTEGER        0       None   0\n",
      "4    4  address_street_name     TEXT        0       None   0\n",
      "5    5                  ssn     CHAR        0       None   0\n"
     ]
    }
   ],
   "source": [
    "person_schema = get_schema(\"person\")\n",
    "print(person_schema)"
   ]
  },
  {
   "attachments": {},
   "cell_type": "markdown",
   "metadata": {},
   "source": [
    "## First Clue:\n",
    "A crime has taken place and the detective needs your help. The detective gave you the crime scene report, but you somehow lost it.\n",
    "<br> You vaguely remember that the crime was a ​murder​ that occurred sometime on ​Jan.15, 2018​ and that it took place in ​SQLCity​."
   ]
  },
  {
   "cell_type": "code",
   "execution_count": 257,
   "metadata": {},
   "outputs": [
    {
     "name": "stdout",
     "output_type": "stream",
     "text": [
      "                                                                                                                                                                                 description\n",
      "0  Security footage shows that there were 2 witnesses. The first witness lives at the last house on \"Northwestern Dr\". The second witness, named Annabel, lives somewhere on \"Franklin Ave\".\n"
     ]
    }
   ],
   "source": [
    "first_clue_results = (query_to_df(\"\"\"\n",
    "                                    SELECT description\n",
    "                                    FROM crime_scene_report\n",
    "                                    WHERE date = 20180115 AND type = 'murder' AND city = 'SQL City'\n",
    "                                  \"\"\"))\n",
    "with pd.option_context('display.max_colwidth', None):\n",
    "    print(first_clue_results)"
   ]
  },
  {
   "attachments": {},
   "cell_type": "markdown",
   "metadata": {},
   "source": [
    "The results from the first clue:\n",
    "- 1st. witness lives at the last house on \"Northwestern Dr\".\n",
    "- 2nd. witness, named Annabel, lives somewhere on \"Franklin Ave\".\n",
    "We can try to find more information about them in 'Person' table."
   ]
  },
  {
   "cell_type": "code",
   "execution_count": 258,
   "metadata": {},
   "outputs": [
    {
     "name": "stdout",
     "output_type": "stream",
     "text": [
      "          id                 name  license_id  address_number  \\\n",
      "0      10000   Christoper Peteuil      993845             624   \n",
      "1      10007  Kourtney Calderwood      861794            2791   \n",
      "2      10010            Muoi Cary      385336             741   \n",
      "3      10016          Era Moselle      431897            1987   \n",
      "4      10025         Trena Hornby      550890             276   \n",
      "...      ...                  ...         ...             ...   \n",
      "10006  99936          Luba Benser      274427             680   \n",
      "10007  99941      Roxana Mckimley      975942            1613   \n",
      "10008  99965      Cherie Zeimantz      287627            3661   \n",
      "10009  99982          Allen Cruse      251350            3126   \n",
      "10010  99990         Vance Hunten      830407            3056   \n",
      "\n",
      "      address_street_name        ssn  \n",
      "0            Bankhall Ave  747714076  \n",
      "1           Gustavus Blvd  477972044  \n",
      "2         Northwestern Dr  828638512  \n",
      "3           Wood Glade St  614621061  \n",
      "4           Daws Hill Way  223877684  \n",
      "...                   ...        ...  \n",
      "10006        Carnage Blvd  685095054  \n",
      "10007             Gate St  512136801  \n",
      "10008       The Water Ave  362877324  \n",
      "10009           N Jean Dr  348734531  \n",
      "10010       Lancefield St  896677562  \n",
      "\n",
      "[10011 rows x 6 columns]\n"
     ]
    }
   ],
   "source": [
    "x = (query_to_df(\"SELECT * FROM person\"))\n",
    "print(x)"
   ]
  },
  {
   "cell_type": "code",
   "execution_count": 259,
   "metadata": {},
   "outputs": [
    {
     "name": "stdout",
     "output_type": "stream",
     "text": [
      "      id            name  license_id  address_number address_street_name  \\\n",
      "0  14887  Morty Schapiro      118009            4919     Northwestern Dr   \n",
      "1  16371  Annabel Miller      490173             103        Franklin Ave   \n",
      "\n",
      "         ssn  \n",
      "0  111564949  \n",
      "1  318771143  \n"
     ]
    }
   ],
   "source": [
    "second_clue_results = (query_to_df(\"\"\"\n",
    "                                    SELECT * \n",
    "                                    FROM person \n",
    "                                    WHERE address_street_name = 'Northwestern Dr' AND address_number = (SELECT MAX(address_number) FROM person WHERE address_street_name = 'Northwestern Dr')\n",
    "\n",
    "                                    UNION\n",
    "\n",
    "                                    SELECT * FROM person WHERE name LIKE '%Annabel%' AND address_street_name = 'Franklin Ave'\n",
    "                                   \"\"\"))\n",
    "print(second_clue_results)"
   ]
  },
  {
   "cell_type": "code",
   "execution_count": null,
   "metadata": {},
   "outputs": [],
   "source": [
    "third_clue_results = (query_to_df(\"\"\"\n",
    "                                    SELECT id, transcript\n",
    "                                    FROM interview, person\n",
    "                                    WHERE person.id = interview.person_id\n",
    "                                \n",
    "                                \n",
    "                                \n",
    "                                \n",
    "                                  \"\"\"))"
   ]
  }
 ],
 "metadata": {
  "kernelspec": {
   "display_name": "portfolio",
   "language": "python",
   "name": "python3"
  },
  "language_info": {
   "codemirror_mode": {
    "name": "ipython",
    "version": 3
   },
   "file_extension": ".py",
   "mimetype": "text/x-python",
   "name": "python",
   "nbconvert_exporter": "python",
   "pygments_lexer": "ipython3",
   "version": "3.9.5"
  },
  "orig_nbformat": 4,
  "vscode": {
   "interpreter": {
    "hash": "c7745dc81a9125b2da9bc6f4eca844cf3eda5d8e453e3708f3049919eef883bc"
   }
  }
 },
 "nbformat": 4,
 "nbformat_minor": 2
}
