{
 "cells": [
  {
   "cell_type": "code",
   "execution_count": 124,
   "metadata": {},
   "outputs": [],
   "source": [
    "import pandas as pd\n",
    "import numpy as np\n",
    "import sqlite3\n",
    "\n",
    "# Transforming the query result into dataframe for easier manipulations.\n",
    "def query_to_df(query):\n",
    "    with sqlite3.connect(\"sql-murder-mystery.db\") as connection:\n",
    "        results_df = pd.read_sql(query, connection)\n",
    "    return results_df\n",
    "\n",
    "# Retrieving the table schema\n",
    "def get_schema(table_name):\n",
    "    with sqlite3.connect(\"sql-murder-mystery.db\") as connection:\n",
    "        cursor = connection.cursor()\n",
    "        cursor.execute(f\"PRAGMA table_info('{table_name}')\")\n",
    "        data = cursor.fetchall()\n",
    "    columns = [desc[0] for desc in cursor.description] # retrieve column names\n",
    "    df = pd.DataFrame(data, columns=columns) # create pandas DataFrame\n",
    "    return df"
   ]
  },
  {
   "attachments": {},
   "cell_type": "markdown",
   "metadata": {},
   "source": [
    "# Checking what tables are in the database.\n",
    "Firstly, I'm checking what tables are in the database file. <br> For that I'm gonna run a query on 'sqlite_master' table to receive information about the structure of a database."
   ]
  },
  {
   "cell_type": "code",
   "execution_count": 125,
   "metadata": {},
   "outputs": [
    {
     "name": "stdout",
     "output_type": "stream",
     "text": [
      "                     name\n",
      "0      crime_scene_report\n",
      "1         drivers_license\n",
      "2  facebook_event_checkin\n",
      "3               interview\n",
      "4      get_fit_now_member\n",
      "5    get_fit_now_check_in\n",
      "6                solution\n",
      "7                  income\n",
      "8                  person\n"
     ]
    }
   ],
   "source": [
    "database_tables = query_to_df(\"SELECT name FROM sqlite_master WHERE type = 'table'\")\n",
    "print(database_tables)"
   ]
  },
  {
   "attachments": {},
   "cell_type": "markdown",
   "metadata": {},
   "source": [
    "# Schemas\n",
    "Knowing what tables I'm working with, I'd check now what kind of data/information is stored inside each table."
   ]
  },
  {
   "attachments": {},
   "cell_type": "markdown",
   "metadata": {},
   "source": [
    "### *Crime Scene Report*"
   ]
  },
  {
   "cell_type": "code",
   "execution_count": 126,
   "metadata": {},
   "outputs": [
    {
     "name": "stdout",
     "output_type": "stream",
     "text": [
      "   cid         name     type  notnull dflt_value  pk\n",
      "0    0         date  INTEGER        0       None   0\n",
      "1    1         type     TEXT        0       None   0\n",
      "2    2  description     TEXT        0       None   0\n",
      "3    3         city     TEXT        0       None   0\n"
     ]
    }
   ],
   "source": [
    "crime_scene_report_schema = get_schema(\"crime_scene_report\")\n",
    "print(crime_scene_report_schema)"
   ]
  },
  {
   "attachments": {},
   "cell_type": "markdown",
   "metadata": {},
   "source": [
    "### *Drivers License*"
   ]
  },
  {
   "cell_type": "code",
   "execution_count": 127,
   "metadata": {},
   "outputs": [
    {
     "name": "stdout",
     "output_type": "stream",
     "text": [
      "   cid          name     type  notnull dflt_value  pk\n",
      "0    0            id  INTEGER        0       None   1\n",
      "1    1           age  INTEGER        0       None   0\n",
      "2    2        height  INTEGER        0       None   0\n",
      "3    3     eye_color     TEXT        0       None   0\n",
      "4    4    hair_color     TEXT        0       None   0\n",
      "5    5        gender     TEXT        0       None   0\n",
      "6    6  plate_number     TEXT        0       None   0\n",
      "7    7      car_make     TEXT        0       None   0\n",
      "8    8     car_model     TEXT        0       None   0\n"
     ]
    }
   ],
   "source": [
    "drivers_license_schema = get_schema(\"drivers_license\")\n",
    "print(drivers_license_schema)"
   ]
  },
  {
   "attachments": {},
   "cell_type": "markdown",
   "metadata": {},
   "source": [
    "### *Facebook Event Checkin*"
   ]
  },
  {
   "cell_type": "code",
   "execution_count": 128,
   "metadata": {},
   "outputs": [
    {
     "name": "stdout",
     "output_type": "stream",
     "text": [
      "   cid        name     type  notnull dflt_value  pk\n",
      "0    0   person_id  INTEGER        0       None   0\n",
      "1    1    event_id  INTEGER        0       None   0\n",
      "2    2  event_name     TEXT        0       None   0\n",
      "3    3        date  INTEGER        0       None   0\n"
     ]
    }
   ],
   "source": [
    "facebook_event_checkin_schema = get_schema(\"facebook_event_checkin\")\n",
    "print(facebook_event_checkin_schema)"
   ]
  },
  {
   "attachments": {},
   "cell_type": "markdown",
   "metadata": {},
   "source": [
    "### *Interview*"
   ]
  },
  {
   "cell_type": "code",
   "execution_count": 129,
   "metadata": {},
   "outputs": [
    {
     "name": "stdout",
     "output_type": "stream",
     "text": [
      "   cid        name     type  notnull dflt_value  pk\n",
      "0    0   person_id  INTEGER        0       None   0\n",
      "1    1  transcript     TEXT        0       None   0\n"
     ]
    }
   ],
   "source": [
    "interview_schema = get_schema(\"interview\")\n",
    "print(interview_schema)"
   ]
  },
  {
   "attachments": {},
   "cell_type": "markdown",
   "metadata": {},
   "source": [
    "### *Get Fit Now Member*"
   ]
  },
  {
   "cell_type": "code",
   "execution_count": 130,
   "metadata": {},
   "outputs": [
    {
     "name": "stdout",
     "output_type": "stream",
     "text": [
      "   cid                   name     type  notnull dflt_value  pk\n",
      "0    0                     id     TEXT        0       None   1\n",
      "1    1              person_id  INTEGER        0       None   0\n",
      "2    2                   name     TEXT        0       None   0\n",
      "3    3  membership_start_date  INTEGER        0       None   0\n",
      "4    4      membership_status     TEXT        0       None   0\n"
     ]
    }
   ],
   "source": [
    "get_fit_now_member_schema = get_schema(\"get_fit_now_member\")\n",
    "print(get_fit_now_member_schema)"
   ]
  },
  {
   "attachments": {},
   "cell_type": "markdown",
   "metadata": {},
   "source": [
    "### *Get Fit Now Check In*"
   ]
  },
  {
   "cell_type": "code",
   "execution_count": 131,
   "metadata": {},
   "outputs": [
    {
     "name": "stdout",
     "output_type": "stream",
     "text": [
      "   cid            name     type  notnull dflt_value  pk\n",
      "0    0   membership_id     TEXT        0       None   0\n",
      "1    1   check_in_date  INTEGER        0       None   0\n",
      "2    2   check_in_time  INTEGER        0       None   0\n",
      "3    3  check_out_time  INTEGER        0       None   0\n"
     ]
    }
   ],
   "source": [
    "get_fit_now_check_in_schema = get_schema(\"get_fit_now_check_in\")\n",
    "print(get_fit_now_check_in_schema)"
   ]
  },
  {
   "attachments": {},
   "cell_type": "markdown",
   "metadata": {},
   "source": [
    "### *Solution*"
   ]
  },
  {
   "cell_type": "code",
   "execution_count": 132,
   "metadata": {},
   "outputs": [
    {
     "name": "stdout",
     "output_type": "stream",
     "text": [
      "Empty DataFrame\n",
      "Columns: [cid, name, type, notnull, dflt_value, pk]\n",
      "Index: []\n"
     ]
    }
   ],
   "source": [
    "solution_schema = get_schema(\"solution_schema\")\n",
    "print(solution_schema)"
   ]
  },
  {
   "attachments": {},
   "cell_type": "markdown",
   "metadata": {},
   "source": [
    "### *Income*"
   ]
  },
  {
   "cell_type": "code",
   "execution_count": 133,
   "metadata": {},
   "outputs": [
    {
     "name": "stdout",
     "output_type": "stream",
     "text": [
      "   cid           name     type  notnull dflt_value  pk\n",
      "0    0            ssn     CHAR        0       None   1\n",
      "1    1  annual_income  INTEGER        0       None   0\n"
     ]
    }
   ],
   "source": [
    "income_schema = get_schema(\"income\")\n",
    "print(income_schema)"
   ]
  },
  {
   "attachments": {},
   "cell_type": "markdown",
   "metadata": {},
   "source": [
    "### *Person*"
   ]
  },
  {
   "cell_type": "code",
   "execution_count": 134,
   "metadata": {},
   "outputs": [
    {
     "name": "stdout",
     "output_type": "stream",
     "text": [
      "   cid                 name     type  notnull dflt_value  pk\n",
      "0    0                   id  INTEGER        0       None   1\n",
      "1    1                 name     TEXT        0       None   0\n",
      "2    2           license_id  INTEGER        0       None   0\n",
      "3    3       address_number  INTEGER        0       None   0\n",
      "4    4  address_street_name     TEXT        0       None   0\n",
      "5    5                  ssn     CHAR        0       None   0\n"
     ]
    }
   ],
   "source": [
    "person_schema = get_schema(\"person\")\n",
    "print(person_schema)"
   ]
  },
  {
   "attachments": {},
   "cell_type": "markdown",
   "metadata": {},
   "source": [
    "## First Clue:\n",
    "A crime has taken place and the detective needs your help. The detective gave you the crime scene report, but you somehow lost it.\n",
    "<br> You vaguely remember that the crime was a ​murder​ that occurred sometime on ​Jan.15, 2018​ and that it took place in ​SQLCity​."
   ]
  },
  {
   "cell_type": "code",
   "execution_count": 135,
   "metadata": {},
   "outputs": [
    {
     "name": "stdout",
     "output_type": "stream",
     "text": [
      "                                                                                                                                                                                 description\n",
      "0  Security footage shows that there were 2 witnesses. The first witness lives at the last house on \"Northwestern Dr\". The second witness, named Annabel, lives somewhere on \"Franklin Ave\".\n"
     ]
    }
   ],
   "source": [
    "first_clue_results = (query_to_df(\"\"\"\n",
    "                                    SELECT description\n",
    "                                    FROM crime_scene_report\n",
    "                                    WHERE date = 20180115 AND type = 'murder' AND city = 'SQL City'\n",
    "                                  \"\"\"))\n",
    "with pd.option_context('display.max_colwidth', None):\n",
    "    print(first_clue_results)"
   ]
  },
  {
   "attachments": {},
   "cell_type": "markdown",
   "metadata": {},
   "source": [
    "The results from the first clue:\n",
    "- 1st. witness lives at the last house on \"Northwestern Dr\".\n",
    "- 2nd. witness, named Annabel, lives somewhere on \"Franklin Ave\".\n",
    "We can try to find more information about them in 'Person' table."
   ]
  },
  {
   "cell_type": "code",
   "execution_count": 136,
   "metadata": {},
   "outputs": [],
   "source": [
    "second_clue_results = (query_to_df(\"\"\"\n",
    "                                    SELECT * \n",
    "                                    FROM person \n",
    "                                    WHERE address_street_name = 'Northwestern_DR' AND address_number = (SELECT MAX(address_number) FROM person WHERE address_street_name = 'Northwestern_DR')\n",
    "\n",
    "                                    UNION\n",
    "\n",
    "                                    SELECT * FROM person WHERE name = 'Annabel' AND address_street_name = 'Franklin_Ave'\n",
    "                                   \"\"\"))\n",
    "print(second_clue_results)"
   ]
  }
 ],
 "metadata": {
  "kernelspec": {
   "display_name": "portfolio",
   "language": "python",
   "name": "python3"
  },
  "language_info": {
   "codemirror_mode": {
    "name": "ipython",
    "version": 3
   },
   "file_extension": ".py",
   "mimetype": "text/x-python",
   "name": "python",
   "nbconvert_exporter": "python",
   "pygments_lexer": "ipython3",
   "version": "3.9.5"
  },
  "orig_nbformat": 4
 },
 "nbformat": 4,
 "nbformat_minor": 2
}
