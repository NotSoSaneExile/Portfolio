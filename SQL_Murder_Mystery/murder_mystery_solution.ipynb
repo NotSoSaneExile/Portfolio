{
 "cells": [
  {
   "cell_type": "code",
   "execution_count": 1331,
   "metadata": {},
   "outputs": [],
   "source": [
    "import pandas as pd\n",
    "import numpy as np\n",
    "import sqlite3\n",
    "\n",
    "# Transforming the query result into dataframe for easier manipulations.\n",
    "def query_to_df(query):\n",
    "    with sqlite3.connect(\"sql-murder-mystery.db\") as connection:\n",
    "        results_df = pd.read_sql(query, connection)\n",
    "    return results_df\n",
    "\n",
    "# Retrieving the table schema\n",
    "def get_schema(table_name):\n",
    "    with sqlite3.connect(\"sql-murder-mystery.db\") as connection:\n",
    "        cursor = connection.cursor()\n",
    "        cursor.execute(f\"PRAGMA table_info('{table_name}')\")\n",
    "        data = cursor.fetchall()\n",
    "    columns = [desc[0] for desc in cursor.description] # retrieve column names\n",
    "    df = pd.DataFrame(data, columns=columns) # create pandas DataFrame\n",
    "    return df"
   ]
  },
  {
   "attachments": {},
   "cell_type": "markdown",
   "metadata": {},
   "source": [
    "# Checking what tables are in the database.\n",
    "Firstly, I'm checking what tables are in the database file. <br> For that I'm gonna run a query on 'sqlite_master' table to receive information about the structure of a database."
   ]
  },
  {
   "cell_type": "code",
   "execution_count": 1332,
   "metadata": {},
   "outputs": [
    {
     "name": "stdout",
     "output_type": "stream",
     "text": [
      "                     name\n",
      "0      crime_scene_report\n",
      "1         drivers_license\n",
      "2  facebook_event_checkin\n",
      "3               interview\n",
      "4      get_fit_now_member\n",
      "5    get_fit_now_check_in\n",
      "6                solution\n",
      "7                  income\n",
      "8                  person\n"
     ]
    }
   ],
   "source": [
    "database_tables = query_to_df(\"SELECT name FROM sqlite_master WHERE type = 'table'\")\n",
    "print(database_tables)"
   ]
  },
  {
   "attachments": {},
   "cell_type": "markdown",
   "metadata": {},
   "source": [
    "# Schemas\n",
    "Knowing what tables I'm working with, I'd check now what kind of data/information is stored inside each table."
   ]
  },
  {
   "attachments": {},
   "cell_type": "markdown",
   "metadata": {},
   "source": [
    "### *Crime Scene Report*"
   ]
  },
  {
   "cell_type": "code",
   "execution_count": 1333,
   "metadata": {},
   "outputs": [
    {
     "name": "stdout",
     "output_type": "stream",
     "text": [
      "   cid         name     type  notnull dflt_value  pk\n",
      "0    0         date  INTEGER        0       None   0\n",
      "1    1         type     TEXT        0       None   0\n",
      "2    2  description     TEXT        0       None   0\n",
      "3    3         city     TEXT        0       None   0\n"
     ]
    }
   ],
   "source": [
    "crime_scene_report_schema = get_schema(\"crime_scene_report\")\n",
    "print(crime_scene_report_schema)"
   ]
  },
  {
   "attachments": {},
   "cell_type": "markdown",
   "metadata": {},
   "source": [
    "### *Drivers License*"
   ]
  },
  {
   "cell_type": "code",
   "execution_count": 1334,
   "metadata": {},
   "outputs": [
    {
     "name": "stdout",
     "output_type": "stream",
     "text": [
      "   cid          name     type  notnull dflt_value  pk\n",
      "0    0            id  INTEGER        0       None   1\n",
      "1    1           age  INTEGER        0       None   0\n",
      "2    2        height  INTEGER        0       None   0\n",
      "3    3     eye_color     TEXT        0       None   0\n",
      "4    4    hair_color     TEXT        0       None   0\n",
      "5    5        gender     TEXT        0       None   0\n",
      "6    6  plate_number     TEXT        0       None   0\n",
      "7    7      car_make     TEXT        0       None   0\n",
      "8    8     car_model     TEXT        0       None   0\n"
     ]
    }
   ],
   "source": [
    "drivers_license_schema = get_schema(\"drivers_license\")\n",
    "print(drivers_license_schema)"
   ]
  },
  {
   "attachments": {},
   "cell_type": "markdown",
   "metadata": {},
   "source": [
    "### *Facebook Event Checkin*"
   ]
  },
  {
   "cell_type": "code",
   "execution_count": 1335,
   "metadata": {},
   "outputs": [
    {
     "name": "stdout",
     "output_type": "stream",
     "text": [
      "   cid        name     type  notnull dflt_value  pk\n",
      "0    0   person_id  INTEGER        0       None   0\n",
      "1    1    event_id  INTEGER        0       None   0\n",
      "2    2  event_name     TEXT        0       None   0\n",
      "3    3        date  INTEGER        0       None   0\n"
     ]
    }
   ],
   "source": [
    "facebook_event_checkin_schema = get_schema(\"facebook_event_checkin\")\n",
    "print(facebook_event_checkin_schema)"
   ]
  },
  {
   "attachments": {},
   "cell_type": "markdown",
   "metadata": {},
   "source": [
    "### *Interview*"
   ]
  },
  {
   "cell_type": "code",
   "execution_count": 1336,
   "metadata": {},
   "outputs": [
    {
     "name": "stdout",
     "output_type": "stream",
     "text": [
      "   cid        name     type  notnull dflt_value  pk\n",
      "0    0   person_id  INTEGER        0       None   0\n",
      "1    1  transcript     TEXT        0       None   0\n"
     ]
    }
   ],
   "source": [
    "interview_schema = get_schema(\"interview\")\n",
    "print(interview_schema)"
   ]
  },
  {
   "attachments": {},
   "cell_type": "markdown",
   "metadata": {},
   "source": [
    "### *Get Fit Now Member*"
   ]
  },
  {
   "cell_type": "code",
   "execution_count": 1337,
   "metadata": {},
   "outputs": [
    {
     "name": "stdout",
     "output_type": "stream",
     "text": [
      "   cid                   name     type  notnull dflt_value  pk\n",
      "0    0                     id     TEXT        0       None   1\n",
      "1    1              person_id  INTEGER        0       None   0\n",
      "2    2                   name     TEXT        0       None   0\n",
      "3    3  membership_start_date  INTEGER        0       None   0\n",
      "4    4      membership_status     TEXT        0       None   0\n"
     ]
    }
   ],
   "source": [
    "get_fit_now_member_schema = get_schema(\"get_fit_now_member\")\n",
    "print(get_fit_now_member_schema)"
   ]
  },
  {
   "attachments": {},
   "cell_type": "markdown",
   "metadata": {},
   "source": [
    "### *Get Fit Now Check In*"
   ]
  },
  {
   "cell_type": "code",
   "execution_count": 1338,
   "metadata": {},
   "outputs": [
    {
     "name": "stdout",
     "output_type": "stream",
     "text": [
      "   cid            name     type  notnull dflt_value  pk\n",
      "0    0   membership_id     TEXT        0       None   0\n",
      "1    1   check_in_date  INTEGER        0       None   0\n",
      "2    2   check_in_time  INTEGER        0       None   0\n",
      "3    3  check_out_time  INTEGER        0       None   0\n"
     ]
    }
   ],
   "source": [
    "get_fit_now_check_in_schema = get_schema(\"get_fit_now_check_in\")\n",
    "print(get_fit_now_check_in_schema)"
   ]
  },
  {
   "attachments": {},
   "cell_type": "markdown",
   "metadata": {},
   "source": [
    "### *Solution*"
   ]
  },
  {
   "cell_type": "code",
   "execution_count": 1339,
   "metadata": {},
   "outputs": [
    {
     "name": "stdout",
     "output_type": "stream",
     "text": [
      "Empty DataFrame\n",
      "Columns: [cid, name, type, notnull, dflt_value, pk]\n",
      "Index: []\n"
     ]
    }
   ],
   "source": [
    "solution_schema = get_schema(\"solution_schema\")\n",
    "print(solution_schema)"
   ]
  },
  {
   "attachments": {},
   "cell_type": "markdown",
   "metadata": {},
   "source": [
    "### *Income*"
   ]
  },
  {
   "cell_type": "code",
   "execution_count": 1340,
   "metadata": {},
   "outputs": [
    {
     "name": "stdout",
     "output_type": "stream",
     "text": [
      "   cid           name     type  notnull dflt_value  pk\n",
      "0    0            ssn     CHAR        0       None   1\n",
      "1    1  annual_income  INTEGER        0       None   0\n"
     ]
    }
   ],
   "source": [
    "income_schema = get_schema(\"income\")\n",
    "print(income_schema)"
   ]
  },
  {
   "attachments": {},
   "cell_type": "markdown",
   "metadata": {},
   "source": [
    "### *Person*"
   ]
  },
  {
   "cell_type": "code",
   "execution_count": 1341,
   "metadata": {},
   "outputs": [
    {
     "name": "stdout",
     "output_type": "stream",
     "text": [
      "   cid                 name     type  notnull dflt_value  pk\n",
      "0    0                   id  INTEGER        0       None   1\n",
      "1    1                 name     TEXT        0       None   0\n",
      "2    2           license_id  INTEGER        0       None   0\n",
      "3    3       address_number  INTEGER        0       None   0\n",
      "4    4  address_street_name     TEXT        0       None   0\n",
      "5    5                  ssn     CHAR        0       None   0\n"
     ]
    }
   ],
   "source": [
    "person_schema = get_schema(\"person\")\n",
    "print(person_schema)"
   ]
  },
  {
   "attachments": {},
   "cell_type": "markdown",
   "metadata": {},
   "source": [
    "## First Clue:\n",
    "A crime has taken place and the detective needs your help. The detective gave you the crime scene report, but you somehow lost it.\n",
    "<br> You vaguely remember that the crime was a ​murder​ that occurred sometime on ​Jan.15, 2018​ and that it took place in ​SQLCity​."
   ]
  },
  {
   "cell_type": "code",
   "execution_count": 1342,
   "metadata": {},
   "outputs": [
    {
     "name": "stdout",
     "output_type": "stream",
     "text": [
      "                                                                                                                                                                                 description\n",
      "0  Security footage shows that there were 2 witnesses. The first witness lives at the last house on \"Northwestern Dr\". The second witness, named Annabel, lives somewhere on \"Franklin Ave\".\n"
     ]
    }
   ],
   "source": [
    "first_clue_results = (query_to_df(\"\"\"\n",
    "                                    SELECT description\n",
    "                                    FROM crime_scene_report\n",
    "                                    WHERE date = 20180115 AND type = 'murder' AND city = 'SQL City'\n",
    "                                  \"\"\"))\n",
    "with pd.option_context('display.max_colwidth', None):\n",
    "    print(first_clue_results)"
   ]
  },
  {
   "attachments": {},
   "cell_type": "markdown",
   "metadata": {},
   "source": [
    "The results from the 1st clue:\n",
    "- 1st. witness lives at the last house on \"Northwestern Dr\".\n",
    "- 2nd. witness, named Annabel, lives somewhere on \"Franklin Ave\".\n",
    "We can try to find more information about them in 'Person' table."
   ]
  },
  {
   "cell_type": "code",
   "execution_count": 1343,
   "metadata": {},
   "outputs": [
    {
     "name": "stdout",
     "output_type": "stream",
     "text": [
      "          id                 name  license_id  address_number  \\\n",
      "0      10000   Christoper Peteuil      993845             624   \n",
      "1      10007  Kourtney Calderwood      861794            2791   \n",
      "2      10010            Muoi Cary      385336             741   \n",
      "3      10016          Era Moselle      431897            1987   \n",
      "4      10025         Trena Hornby      550890             276   \n",
      "...      ...                  ...         ...             ...   \n",
      "10006  99936          Luba Benser      274427             680   \n",
      "10007  99941      Roxana Mckimley      975942            1613   \n",
      "10008  99965      Cherie Zeimantz      287627            3661   \n",
      "10009  99982          Allen Cruse      251350            3126   \n",
      "10010  99990         Vance Hunten      830407            3056   \n",
      "\n",
      "      address_street_name        ssn  \n",
      "0            Bankhall Ave  747714076  \n",
      "1           Gustavus Blvd  477972044  \n",
      "2         Northwestern Dr  828638512  \n",
      "3           Wood Glade St  614621061  \n",
      "4           Daws Hill Way  223877684  \n",
      "...                   ...        ...  \n",
      "10006        Carnage Blvd  685095054  \n",
      "10007             Gate St  512136801  \n",
      "10008       The Water Ave  362877324  \n",
      "10009           N Jean Dr  348734531  \n",
      "10010       Lancefield St  896677562  \n",
      "\n",
      "[10011 rows x 6 columns]\n"
     ]
    }
   ],
   "source": [
    "x = (query_to_df(\"SELECT * FROM person\"))\n",
    "print(x)"
   ]
  },
  {
   "cell_type": "code",
   "execution_count": 1344,
   "metadata": {},
   "outputs": [
    {
     "name": "stdout",
     "output_type": "stream",
     "text": [
      "      id            name  license_id  address_number address_street_name  \\\n",
      "0  14887  Morty Schapiro      118009            4919     Northwestern Dr   \n",
      "1  16371  Annabel Miller      490173             103        Franklin Ave   \n",
      "\n",
      "         ssn  \n",
      "0  111564949  \n",
      "1  318771143  \n"
     ]
    }
   ],
   "source": [
    "second_clue_results = (query_to_df(\"\"\"\n",
    "                                    SELECT * \n",
    "                                    FROM person \n",
    "                                    WHERE address_street_name = 'Northwestern Dr' AND address_number = (SELECT MAX(address_number) FROM person WHERE address_street_name = 'Northwestern Dr')\n",
    "\n",
    "                                    UNION\n",
    "\n",
    "                                    SELECT * FROM person WHERE name LIKE '%Annabel%' AND address_street_name = 'Franklin Ave'\n",
    "                                   \"\"\"))\n",
    "print(second_clue_results)"
   ]
  },
  {
   "attachments": {},
   "cell_type": "markdown",
   "metadata": {},
   "source": [
    "Results from the 2nd clue:\n",
    "- We know that the two witnesses are: Morty Schapiro (id: 14887) and Annabel Miller (id: 16371). Knowing that we can search for the transcripts in the Interview table."
   ]
  },
  {
   "cell_type": "code",
   "execution_count": 1345,
   "metadata": {},
   "outputs": [
    {
     "name": "stdout",
     "output_type": "stream",
     "text": [
      "   person_id            name  \\\n",
      "0      14887  Morty Schapiro   \n",
      "1      16371  Annabel Miller   \n",
      "\n",
      "                                                                                                                                                                                                                        transcript  \n",
      "0  I heard a gunshot and then saw a man run out. He had a \"Get Fit Now Gym\" bag. The membership number on the bag started with \"48Z\". Only gold members have those bags. The man got into a car with a plate that included \"H42W\".  \n",
      "1                                                                                                            I saw the murder happen, and I recognized the killer from my gym when I was working out last week on January the 9th.  \n"
     ]
    }
   ],
   "source": [
    "third_clue_results = (query_to_df(\"\"\"\n",
    "                                    SELECT interview.person_id, person.name, interview.transcript\n",
    "                                    FROM interview\n",
    "                                    JOIN person ON person.id = interview.person_id\n",
    "                                    WHERE person.id IN (14887, 16371)\n",
    "                                  \"\"\"))\n",
    "\n",
    "with pd.option_context('display.max_colwidth', None):\n",
    "    print(third_clue_results)"
   ]
  },
  {
   "attachments": {},
   "cell_type": "markdown",
   "metadata": {},
   "source": [
    "Results from the 3rd clue:\n",
    "- Morty Schapiro saw a man with \"Get Fit Now Gym\" bag. Membership number on the bag started with \"48Z\". Only gold members have those bags. The man got into a car with a plate that included \"H42W\"\n",
    "- Annabel recognized the murderer from the gym. She saw the man last week while working out on January the 9th.\n"
   ]
  },
  {
   "cell_type": "code",
   "execution_count": 1346,
   "metadata": {},
   "outputs": [
    {
     "name": "stdout",
     "output_type": "stream",
     "text": [
      "      id  person_id           name  membership_start_date membership_status\n",
      "0  48Z7A      28819   Joe Germuska               20160305              gold\n",
      "1  48Z55      67318  Jeremy Bowers               20160101              gold\n",
      "---------------------------------------------------------------------------\n",
      "      id           name  license_id\n",
      "0  28819   Joe Germuska      173289\n",
      "1  67318  Jeremy Bowers      423327\n"
     ]
    }
   ],
   "source": [
    "info_from_morty = (query_to_df(\"\"\"\n",
    "                                SELECT * \n",
    "                                FROM get_fit_now_member \n",
    "                                WHERE membership_status = 'gold' AND id LIKE '48Z%'\n",
    "                               \"\"\"))\n",
    "print(info_from_morty)\n",
    "print('---------------------------------------------------------------------------')\n",
    "\n",
    "info_about_drivers_license = (query_to_df(\"\"\"\n",
    "                                                      SELECT person.id, person.name, person.license_id\n",
    "                                                      FROM person\n",
    "                                                      JOIN get_fit_now_member ON person.id = get_fit_now_member.person_id\n",
    "                                                      WHERE person.name IN ('Joe Germuska', 'Jeremy Bowers')\n",
    "                                                     \"\"\"))\n",
    "print(info_about_drivers_license)"
   ]
  },
  {
   "cell_type": "code",
   "execution_count": 1347,
   "metadata": {},
   "outputs": [
    {
     "name": "stdout",
     "output_type": "stream",
     "text": [
      "       id  age  height eye_color hair_color gender plate_number   car_make  \\\n",
      "0  423327   30      70     brown      brown   male       0H42W2  Chevrolet   \n",
      "\n",
      "  car_model  \n",
      "0  Spark LS  \n"
     ]
    }
   ],
   "source": [
    "drivers_license_info = (query_to_df(\"\"\"\n",
    "                                     SELECT *\n",
    "                                     FROM drivers_license\n",
    "                                     WHERE plate_number LIKE '%H42W%' AND id IN (173289, 423327)\n",
    "                                    \"\"\"))\n",
    "print(drivers_license_info)"
   ]
  },
  {
   "cell_type": "code",
   "execution_count": 1348,
   "metadata": {},
   "outputs": [
    {
     "name": "stdout",
     "output_type": "stream",
     "text": [
      "  membership_id  check_in_date  check_in_time  check_out_time\n",
      "0         X0643       20180109            957            1164\n",
      "1         UK1F2       20180109            344             518\n",
      "2         XTE42       20180109            486            1124\n",
      "3         1AE2H       20180109            461             944\n",
      "4         6LSTG       20180109            399             515\n",
      "5         7MWHJ       20180109            273             885\n",
      "6         GE5Q8       20180109            367             959\n",
      "7         48Z7A       20180109           1600            1730\n",
      "8         48Z55       20180109           1530            1700\n",
      "9         90081       20180109           1600            1700\n",
      "---------------------------------------------------------------------------\n",
      "      id  person_id            name  membership_start_date membership_status  \\\n",
      "0  90081      16371  Annabel Miller               20160208              gold   \n",
      "\n",
      "  membership_id  check_in_date  check_in_time  check_out_time  \n",
      "0         90081       20180109           1600            1700  \n"
     ]
    }
   ],
   "source": [
    "info_from_annabel = (query_to_df(\"SELECT * FROM get_fit_now_check_in WHERE check_in_date = '20180109'\"))\n",
    "print(info_from_annabel)\n",
    "print('---------------------------------------------------------------------------')\n",
    "info_about_annabel = (query_to_df(\"\"\"\n",
    "                                    SELECT *\n",
    "                                    FROM get_fit_now_member\n",
    "                                    JOIN get_fit_now_check_in ON get_fit_now_member.id = get_fit_now_check_in.membership_id\n",
    "                                    WHERE get_fit_now_member.name LIKE '%Annabel%';\n",
    "                                  \"\"\"))\n",
    "print(info_about_annabel)"
   ]
  },
  {
   "attachments": {},
   "cell_type": "markdown",
   "metadata": {},
   "source": [
    "Summing up all informations from the 4th clue:\n",
    "1. Following Morty Schapiro transcript I searched for people with gold membership status whose bag started with \"48Z\". Then I checked their drivers license to get information about plate numbers. <br>\n",
    "This returned the man named **Jeremy Bowers**.\n",
    "2. Following Annabel Miller transcript I checked everyone that attempted the gym on 9th January 2018. I checked for the membership_id and check time, both in and out. <br>\n",
    "**Jeremy Bowers** matches the description."
   ]
  },
  {
   "cell_type": "code",
   "execution_count": 1349,
   "metadata": {},
   "outputs": [
    {
     "name": "stdout",
     "output_type": "stream",
     "text": [
      "   person_id           name  \\\n",
      "0      67318  Jeremy Bowers   \n",
      "\n",
      "                                                                                                                                                                                                                                           transcript  \n",
      "0  I was hired by a woman with a lot of money. I don't know her name but I know she's around 5'5\" (65\") or 5'7\" (67\"). She has red hair and she drives a Tesla Model S. I know that she attended the SQL Symphony Concert 3 times in December 2017.\\n  \n"
     ]
    }
   ],
   "source": [
    "jeremy_bowers_interview = (query_to_df(\"\"\"\n",
    "                                        SELECT interview.person_id, person.name, interview.transcript\n",
    "                                        FROM interview\n",
    "                                        JOIN person ON person.id = interview.person_id\n",
    "                                        WHERE person.id = 67318\n",
    "                                       \"\"\"))\n",
    "with pd.option_context('display.max_colwidth', None):\n",
    "    print(jeremy_bowers_interview)"
   ]
  },
  {
   "cell_type": "code",
   "execution_count": 1350,
   "metadata": {},
   "outputs": [
    {
     "name": "stdout",
     "output_type": "stream",
     "text": [
      "       id  age  height eye_color hair_color  gender plate_number car_make  \\\n",
      "0  202298   68      66     green        red  female       500123    Tesla   \n",
      "1  291182   65      66      blue        red  female       08CM64    Tesla   \n",
      "2  918773   48      65     black        red  female       917UU3    Tesla   \n",
      "\n",
      "  car_model  \n",
      "0   Model S  \n",
      "1   Model S  \n",
      "2   Model S  \n"
     ]
    }
   ],
   "source": [
    "who_hired_jeremy_bowers = query_to_df(\"\"\"\n",
    "                                            SELECT *\n",
    "                                            FROM drivers_license\n",
    "                                            WHERE car_make LIKE '%Tesla%' AND car_model LIKE '%S' AND hair_color = 'red' AND gender = 'female'\n",
    "                                            \"\"\")\n",
    "print(who_hired_jeremy_bowers)"
   ]
  },
  {
   "attachments": {},
   "cell_type": "markdown",
   "metadata": {},
   "source": [
    "Following Jeremy Bowers transcript we found three possible females, who could've hired Jeremy Bowers. All three of them are in the <65\", 67\"> height range. I'm gonna check for more personal details next."
   ]
  },
  {
   "cell_type": "code",
   "execution_count": 1351,
   "metadata": {},
   "outputs": [
    {
     "name": "stdout",
     "output_type": "stream",
     "text": [
      "      id  license_id              name        ssn  annual_income\n",
      "0  78881      918773          Red Korb  961388910         278000\n",
      "1  99716      202298  Miranda Priestly  987756388         310000\n",
      "-------------------------------------------------------------------------\n",
      "      id              name\n",
      "0  99716  Miranda Priestly\n"
     ]
    }
   ],
   "source": [
    "personal_details = query_to_df(\"\"\"\n",
    "                                SELECT person.id, person.license_id, person.name, person.ssn, income.annual_income\n",
    "                                FROM person\n",
    "                                JOIN income ON person.ssn = income.ssn\n",
    "                                WHERE license_id IN (202298, 291182, 918773)\n",
    "                               \"\"\")\n",
    "print(personal_details)\n",
    "print('-------------------------------------------------------------------------')\n",
    "\n",
    "facebook_event_checkin = query_to_df(\"\"\"\n",
    "                                      SELECT person.id, person.name\n",
    "                                      FROM person, facebook_event_checkin\n",
    "                                      WHERE person.id IN (78881, 99716) \n",
    "                                        AND person.id = facebook_event_checkin.person_id\n",
    "                                        AND date >= 20171201 AND date < 20180101\n",
    "                                        AND facebook_event_checkin.event_name LIKE '%SQL%Symphony%Concert%'\n",
    "                                      GROUP BY person.id\n",
    "                                      HAVING COUNT(date) = 3;\n",
    "                                     \"\"\")\n",
    "print(facebook_event_checkin)\n",
    "\n",
    "#This is the last query needed to solve the mystery"
   ]
  },
  {
   "attachments": {},
   "cell_type": "markdown",
   "metadata": {},
   "source": [
    "# Final Verdict\n",
    "By gathering all the information we eventually find out that the brain behind the murder in SQL City was the ***Miranda Priestly***."
   ]
  }
 ],
 "metadata": {
  "kernelspec": {
   "display_name": "portfolio",
   "language": "python",
   "name": "python3"
  },
  "language_info": {
   "codemirror_mode": {
    "name": "ipython",
    "version": 3
   },
   "file_extension": ".py",
   "mimetype": "text/x-python",
   "name": "python",
   "nbconvert_exporter": "python",
   "pygments_lexer": "ipython3",
   "version": "3.9.5"
  },
  "orig_nbformat": 4,
  "vscode": {
   "interpreter": {
    "hash": "c7745dc81a9125b2da9bc6f4eca844cf3eda5d8e453e3708f3049919eef883bc"
   }
  }
 },
 "nbformat": 4,
 "nbformat_minor": 2
}
